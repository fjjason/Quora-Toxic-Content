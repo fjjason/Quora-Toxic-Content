{
  "cells": [
    {
      "metadata": {
        "_uuid": "8f2839f25d086af736a60e9eeb907d3b93b6e0e5",
        "_cell_guid": "b1076dfc-b9ad-4769-8c92-a6c4dae69d19",
        "trusted": true
      },
      "cell_type": "code",
      "source": "# This Python 3 environment comes with many helpful analytics libraries installed\n# It is defined by the kaggle/python docker image: https://github.com/kaggle/docker-python\n# For example, here's several helpful packages to load in \n\nimport numpy as np # linear algebra\nimport pandas as pd # data processing, CSV file I/O (e.g. pd.read_csv)\nimport pickle\nfrom gensim.models import Word2Vec\nimport gensim.models.keyedvectors as word2vec\nfrom sklearn.model_selection import train_test_split\nfrom sklearn.metrics import accuracy_score\nfrom sklearn.metrics import confusion_matrix\nfrom sklearn.model_selection import cross_val_score\nfrom keras.models import Sequential\nfrom keras.layers import Dense, Activation\nfrom matplotlib import pyplot\nfrom time import time\nfrom sklearn.preprocessing import StandardScaler\nfrom keras.utils import np_utils\nfrom sklearn.preprocessing import LabelEncoder\nfrom keras.utils.np_utils import to_categorical\nfrom sklearn.utils import shuffle\nfrom keras.callbacks import EarlyStopping\nfrom keras import*\n# Input data files are available in the \"../input/\" directory.\n# For example, running this (by clicking run or pressing Shift+Enter) will list the files in the input directory\n\nimport os\nprint(os.listdir(\"../\"))\nprint(os.listdir(\"../input\"))\nprint(os.listdir(\"../working\"))\nprint(os.listdir(\"../input/quora-insincere-questions-classification/embeddings/GoogleNews-vectors-negative300/\"))\n# Any results you write to the current directory are saved as output.",
      "execution_count": 1,
      "outputs": [
        {
          "output_type": "stream",
          "text": "Using TensorFlow backend.\n",
          "name": "stderr"
        },
        {
          "output_type": "stream",
          "text": "['config', 'working', 'lib', 'input']\n['quora-insincere-questions-classification', 'vector']\n['submission.csv', '.ipynb_checkpoints', '__notebook_source__.ipynb']\n['GoogleNews-vectors-negative300.bin']\n",
          "name": "stdout"
        }
      ]
    },
    {
      "metadata": {
        "_cell_guid": "79c7e3d0-c299-4dcb-8224-4455121ee9b0",
        "_uuid": "d629ff2d2480ee46fbb7e2d37f6b5fab8052498a",
        "trusted": true
      },
      "cell_type": "code",
      "source": "train_df = pd.read_csv(\"../input/quora-insincere-questions-classification/train.csv\")\ntest_df = pd.read_csv(\"../input/quora-insincere-questions-classification/test.csv\")\nprint(\"Train shape : \", train_df.shape)\nprint(\"Test shape : \", test_df.shape)",
      "execution_count": 2,
      "outputs": [
        {
          "output_type": "stream",
          "text": "Train shape :  (1306122, 3)\nTest shape :  (375806, 2)\n",
          "name": "stdout"
        }
      ]
    },
    {
      "metadata": {
        "trusted": true,
        "_uuid": "7eca2648a1ed26a937e1d416f1b02eef3b948d78"
      },
      "cell_type": "code",
      "source": "print(train_df.columns)\nprint(\"not toxic:\")\nprint(train_df[train_df.target==0][\"question_text\"].head())\nprint(\"toxic:\")     \nprint(train_df[train_df.target==1][\"question_text\"].head())",
      "execution_count": 3,
      "outputs": [
        {
          "output_type": "stream",
          "text": "Index(['qid', 'question_text', 'target'], dtype='object')\nnot toxic:\n0    How did Quebec nationalists see their province...\n1    Do you have an adopted dog, how would you enco...\n2    Why does velocity affect time? Does velocity a...\n3    How did Otto von Guericke used the Magdeburg h...\n4    Can I convert montra helicon D to a mountain b...\nName: question_text, dtype: object\ntoxic:\n22     Has the United States become the largest dicta...\n30     Which babies are more sweeter to their parents...\n110    If blacks support school choice and mandatory ...\n114    I am gay boy and I love my cousin (boy). He is...\n115                 Which races have the smallest penis?\nName: question_text, dtype: object\n",
          "name": "stdout"
        }
      ]
    },
    {
      "metadata": {
        "_uuid": "8928929e308efa1031f25f154ee11e4841b3eba4"
      },
      "cell_type": "markdown",
      "source": "**Load Pre-Trained Word2Vec Model trained on news articles**"
    },
    {
      "metadata": {
        "trusted": true,
        "_uuid": "96cd381d6ae93a8aa26bb73d086b0cf737662ac4",
        "_kg_hide-output": false,
        "_kg_hide-input": true,
        "scrolled": true
      },
      "cell_type": "code",
      "source": "word2vec_model = word2vec.KeyedVectors.load_word2vec_format(\"../input/quora-insincere-questions-classification/embeddings/GoogleNews-vectors-negative300/GoogleNews-vectors-negative300.bin\", binary=True)",
      "execution_count": 4,
      "outputs": []
    },
    {
      "metadata": {
        "_uuid": "20fed7fc7b79e6a5ab364195f6e29ebc2e304f5a"
      },
      "cell_type": "markdown",
      "source": "**Average Feature Vector( some cleaned text):\n    Look through all words in the clean text\n    add the vector of each words into a new Numpy Array\n    divide by the number of words to get average\n    the returned value is the word2vec representation of the clean text**"
    },
    {
      "metadata": {
        "trusted": true,
        "_uuid": "2d127582465056b9da4eba5afb9b209c01926fb8"
      },
      "cell_type": "code",
      "source": "def avg_feature_vector(words):\n    #function to average all words vectors in a given paragraph\n    featureVec = np.zeros((300,), dtype=\"float32\")\n    nwords = 0\n    for word in words:\n        try:\n            nwords = nwords+1\n            featureVec = np.add(featureVec, np.array(word2vec_model.wv[word]))\n        except:\n            pass\n    if nwords>0:\n        featureVec = np.divide(featureVec, nwords)\n    return featureVec",
      "execution_count": 5,
      "outputs": []
    },
    {
      "metadata": {
        "_uuid": "befbba9f8e90f7131ddf7e5ac895f3e63bcb67bc"
      },
      "cell_type": "markdown",
      "source": "****Clean Text, takes very long so I loaded into a pickle file**************"
    },
    {
      "metadata": {
        "trusted": true,
        "_uuid": "0937e4841c8477f7b26510bc9fc2582ebbdcc2f0",
        "_kg_hide-input": true
      },
      "cell_type": "code",
      "source": "'''import nltk\ndef warn(*args, **kwargs):\n    pass\nimport warnings\nwarnings.warn = warn\nstemmer = nltk.stem.SnowballStemmer('english')\nfrom nltk.stem import WordNetLemmatizer\nimport re\nfrom string import punctuation\nfrom sklearn.feature_extraction.stop_words import ENGLISH_STOP_WORDS\nstop_words = ENGLISH_STOP_WORDS\nimport numpy as np\nimport pandas as pd\nimport pickle\nlemmatizer = WordNetLemmatizer()\n\ndef preprocess(x):\n    x = x.encode(\"ascii\", errors=\"ignore\").decode()\n    x = x.lower().strip()\n    x = x.replace('\\r', ' ').replace('\\n', ' ')\n    x = re.sub(r'([\\w\\.-]+@[\\w\\.-]+)', 'email_se', x)\n    x = re.sub(' +',' ',x)\n    x = re.sub(r'[^\\w\\s]','',x)\n    x = nltk.word_tokenize(x) \n    x = [lemmatizer.lemmatize(word, pos='v') for word in x if lemmatizer.lemmatize(word, pos='v') not in stop_words]\n    x = [lemmatizer.lemmatize(word, pos='n') for word in x if lemmatizer.lemmatize(word, pos='n') not in stop_words]\n    x = [stemmer.stem(word) for word in x]\n    return x\ndef get_vector(text):\n    text = preprocess(text)\n    return avg_feature_vector(text)\ntrain_df[\"question_text_vector\"] = train_df[\"question_text\"].apply(get_vector)\nprint(train_df[\"question_text_vector\"])\ntrain_df.to_pickle(\"training_set_with_vectors\")'''",
      "execution_count": 6,
      "outputs": [
        {
          "output_type": "execute_result",
          "execution_count": 6,
          "data": {
            "text/plain": "'import nltk\\ndef warn(*args, **kwargs):\\n    pass\\nimport warnings\\nwarnings.warn = warn\\nstemmer = nltk.stem.SnowballStemmer(\\'english\\')\\nfrom nltk.stem import WordNetLemmatizer\\nimport re\\nfrom string import punctuation\\nfrom sklearn.feature_extraction.stop_words import ENGLISH_STOP_WORDS\\nstop_words = ENGLISH_STOP_WORDS\\nimport numpy as np\\nimport pandas as pd\\nimport pickle\\nlemmatizer = WordNetLemmatizer()\\n\\ndef preprocess(x):\\n    x = x.encode(\"ascii\", errors=\"ignore\").decode()\\n    x = x.lower().strip()\\n    x = x.replace(\\'\\r\\', \\' \\').replace(\\'\\n\\', \\' \\')\\n    x = re.sub(r\\'([\\\\w\\\\.-]+@[\\\\w\\\\.-]+)\\', \\'email_se\\', x)\\n    x = re.sub(\\' +\\',\\' \\',x)\\n    x = re.sub(r\\'[^\\\\w\\\\s]\\',\\'\\',x)\\n    x = nltk.word_tokenize(x) \\n    x = [lemmatizer.lemmatize(word, pos=\\'v\\') for word in x if lemmatizer.lemmatize(word, pos=\\'v\\') not in stop_words]\\n    x = [lemmatizer.lemmatize(word, pos=\\'n\\') for word in x if lemmatizer.lemmatize(word, pos=\\'n\\') not in stop_words]\\n    x = [stemmer.stem(word) for word in x]\\n    return x\\ndef get_vector(text):\\n    text = preprocess(text)\\n    return avg_feature_vector(text)\\ntrain_df[\"question_text_vector\"] = train_df[\"question_text\"].apply(get_vector)\\nprint(train_df[\"question_text_vector\"])\\ntrain_df.to_pickle(\"training_set_with_vectors\")'"
          },
          "metadata": {}
        }
      ]
    },
    {
      "metadata": {
        "_uuid": "05a35c26d13eb8e5da6612c19010ca2ac76d9247"
      },
      "cell_type": "markdown",
      "source": "Read From pickle, input(word2vec representation) to X, output(labels(toxic,not toxic)) to Y "
    },
    {
      "metadata": {
        "trusted": true,
        "_uuid": "5981da4043afd3a64b6bef9d5aec7ad0c0b4326a"
      },
      "cell_type": "code",
      "source": "train_df = pd.read_pickle(\"../input/vector/training_set_with_vectors\")\nprint(len(train_df))\nx = np.array(train_df.values)\nX = []\nfor i in range(len(x)):\n    b1 = x[i][3]\n    X.append(b1)\nY = np.array(train_df['target'].values)\nprint(len(Y))",
      "execution_count": 7,
      "outputs": [
        {
          "output_type": "stream",
          "text": "1306122\n1306122\n",
          "name": "stdout"
        }
      ]
    },
    {
      "metadata": {
        "_uuid": "53d85afef5306b115b893c8f22cbf9b609083142"
      },
      "cell_type": "markdown",
      "source": "**One hot encoding for Y values**\n\n**Split data into testing/training set**"
    },
    {
      "metadata": {
        "trusted": true,
        "_uuid": "af834d1beae863f83bb3241fb903a4f88bb3d162"
      },
      "cell_type": "code",
      "source": "encoder = LabelEncoder()\nencoder.fit(Y)\nY = encoder.transform(Y)\nY = np_utils.to_categorical(Y)\nX_train, X_test, y_train, y_test = train_test_split(np.array(X), Y, test_size=0.08, random_state=42)",
      "execution_count": 8,
      "outputs": []
    },
    {
      "metadata": {
        "_uuid": "9501c7f3bd717cb03bed55c216ebe4dc77c4646c"
      },
      "cell_type": "markdown",
      "source": "**Grid Search, Find the most optimal hyperparameters**"
    },
    {
      "metadata": {
        "trusted": true,
        "_uuid": "6b68bf3a8031b69620e746974ca5415ef1616c00"
      },
      "cell_type": "code",
      "source": "'''from sklearn.utils import class_weight\nfrom keras.wrappers.scikit_learn import KerasRegressor\nfrom sklearn.model_selection import GridSearchCV\nfrom keras.optimizers import * \nfrom keras.layers import Activation, Dense\n\ndef create_model(layers,activation,optimizer):\n    model = Sequential()\n    for i, nodes in enumerate(layers):\n        if i == 0:\n            model.add(Dense(nodes, input_dim=X_train.shape[1]))\n            model.add(Activation(activation))\n        else:\n            model.add(Dense(nodes))\n            model.add(Activation(activation))\n    model.add(Dense(2, activation = 'sigmoid'))\n    # Compile model\n    model.compile(loss='binary_crossentropy', optimizer=optimizer, metrics=['accuracy'])\n    return model\nmodel = KerasRegressor(build_fn=create_model, verbose=0)\nlayers = [[200,100],[225,150,75],[220,160,100,50]]\nactivations = ['relu']\noptimizers =['adadelta','adam','rmsprop']\nparam_grid = dict(layers=layers,activation=activations, optimizer= optimizers, batch_size=[1024],epochs=[20,40])\ngrid = GridSearchCV(estimator=model,param_grid=param_grid,scoring='neg_mean_squared_error')\ngrid_result = grid.fit(X_train,y_train)'''",
      "execution_count": 9,
      "outputs": [
        {
          "output_type": "execute_result",
          "execution_count": 9,
          "data": {
            "text/plain": "\"from sklearn.utils import class_weight\\nfrom keras.wrappers.scikit_learn import KerasRegressor\\nfrom sklearn.model_selection import GridSearchCV\\nfrom keras.optimizers import * \\nfrom keras.layers import Activation, Dense\\n\\ndef create_model(layers,activation,optimizer):\\n    model = Sequential()\\n    for i, nodes in enumerate(layers):\\n        if i == 0:\\n            model.add(Dense(nodes, input_dim=X_train.shape[1]))\\n            model.add(Activation(activation))\\n        else:\\n            model.add(Dense(nodes))\\n            model.add(Activation(activation))\\n    model.add(Dense(2, activation = 'sigmoid'))\\n    # Compile model\\n    model.compile(loss='binary_crossentropy', optimizer=optimizer, metrics=['accuracy'])\\n    return model\\nmodel = KerasRegressor(build_fn=create_model, verbose=0)\\nlayers = [[200,100],[225,150,75],[220,160,100,50]]\\nactivations = ['relu']\\noptimizers =['adadelta','adam','rmsprop']\\nparam_grid = dict(layers=layers,activation=activations, optimizer= optimizers, batch_size=[1024],epochs=[20,40])\\ngrid = GridSearchCV(estimator=model,param_grid=param_grid,scoring='neg_mean_squared_error')\\ngrid_result = grid.fit(X_train,y_train)\""
          },
          "metadata": {}
        }
      ]
    },
    {
      "metadata": {
        "trusted": true,
        "_uuid": "8f20fc39a62b1cda1623146d156056f7da7956ce"
      },
      "cell_type": "code",
      "source": "'''[grid_result.best_score_,grid_result.best_params_]'''",
      "execution_count": 10,
      "outputs": [
        {
          "output_type": "execute_result",
          "execution_count": 10,
          "data": {
            "text/plain": "'[grid_result.best_score_,grid_result.best_params_]'"
          },
          "metadata": {}
        }
      ]
    },
    {
      "metadata": {
        "_uuid": "541322a788867487dd7886969bfadd5629c34547"
      },
      "cell_type": "markdown",
      "source": "**Run the Model again with the most optimal hyperparameters found above**"
    },
    {
      "metadata": {
        "trusted": true,
        "_uuid": "73281bfeabe6e4c0204d232f841171ea67d87ea6"
      },
      "cell_type": "code",
      "source": "model = Sequential()\ninput_dim = len(X_train[0])\nprint(input_dim)\n\n\nmodel.add(Dense(input_dim, input_dim = input_dim , activation = 'relu'))\nmodel.add(Dense(225, input_dim=X_train.shape[1]))\nmodel.add(Dense(150, input_dim=X_train.shape[1]))\nmodel.add(Dense(75, input_dim=X_train.shape[1]))\nmodel.add(Dense(2, activation = 'sigmoid'))\n\nmodel.compile(loss='binary_crossentropy', optimizer='adadelta', metrics=['accuracy'])\nhistory = model.fit(X_train, y_train,\n        epochs=20,\n        batch_size=1024,\n        validation_split=0.2)\n#class_weight=class_weights\n\nprint()\ny_prediction = model.predict_classes(X_train)\n",
      "execution_count": 11,
      "outputs": [
        {
          "output_type": "stream",
          "text": "300\nTrain on 961305 samples, validate on 240327 samples\nEpoch 1/20\n961305/961305 [==============================] - 25s 26us/step - loss: 0.1492 - acc: 0.9446 - val_loss: 0.1437 - val_acc: 0.9464\nEpoch 2/20\n961305/961305 [==============================] - 26s 27us/step - loss: 0.1375 - acc: 0.9483 - val_loss: 0.1419 - val_acc: 0.9468\nEpoch 3/20\n961305/961305 [==============================] - 25s 26us/step - loss: 0.1340 - acc: 0.9494 - val_loss: 0.1368 - val_acc: 0.9483\nEpoch 4/20\n961305/961305 [==============================] - 25s 26us/step - loss: 0.1319 - acc: 0.9501 - val_loss: 0.1359 - val_acc: 0.9488\nEpoch 5/20\n961305/961305 [==============================] - 24s 25us/step - loss: 0.1300 - acc: 0.9508 - val_loss: 0.1350 - val_acc: 0.9491\nEpoch 6/20\n961305/961305 [==============================] - 24s 24us/step - loss: 0.1280 - acc: 0.9512 - val_loss: 0.1408 - val_acc: 0.9466\nEpoch 7/20\n961305/961305 [==============================] - 25s 26us/step - loss: 0.1265 - acc: 0.9519 - val_loss: 0.1389 - val_acc: 0.9482\nEpoch 8/20\n961305/961305 [==============================] - 23s 24us/step - loss: 0.1253 - acc: 0.9521 - val_loss: 0.1335 - val_acc: 0.9495\nEpoch 9/20\n961305/961305 [==============================] - 23s 24us/step - loss: 0.1237 - acc: 0.9528 - val_loss: 0.1339 - val_acc: 0.9493\nEpoch 10/20\n961305/961305 [==============================] - 23s 24us/step - loss: 0.1223 - acc: 0.9531 - val_loss: 0.1341 - val_acc: 0.9494\nEpoch 11/20\n961305/961305 [==============================] - 23s 24us/step - loss: 0.1211 - acc: 0.9535 - val_loss: 0.1343 - val_acc: 0.9495\nEpoch 12/20\n961305/961305 [==============================] - 23s 24us/step - loss: 0.1198 - acc: 0.9539 - val_loss: 0.1345 - val_acc: 0.9493\nEpoch 13/20\n961305/961305 [==============================] - 23s 24us/step - loss: 0.1192 - acc: 0.9541 - val_loss: 0.1517 - val_acc: 0.9419\nEpoch 14/20\n961305/961305 [==============================] - 23s 24us/step - loss: 0.1179 - acc: 0.9545 - val_loss: 0.1342 - val_acc: 0.9493\nEpoch 15/20\n961305/961305 [==============================] - 23s 24us/step - loss: 0.1163 - acc: 0.9552 - val_loss: 0.1369 - val_acc: 0.9483\nEpoch 16/20\n961305/961305 [==============================] - 22s 23us/step - loss: 0.1156 - acc: 0.9553 - val_loss: 0.1490 - val_acc: 0.9427\nEpoch 17/20\n961305/961305 [==============================] - 22s 23us/step - loss: 0.1145 - acc: 0.9556 - val_loss: 0.1368 - val_acc: 0.9491\nEpoch 18/20\n961305/961305 [==============================] - 22s 23us/step - loss: 0.1132 - acc: 0.9560 - val_loss: 0.1427 - val_acc: 0.9486\nEpoch 19/20\n961305/961305 [==============================] - 22s 23us/step - loss: 0.1121 - acc: 0.9565 - val_loss: 0.1392 - val_acc: 0.9490\nEpoch 20/20\n961305/961305 [==============================] - 22s 23us/step - loss: 0.1113 - acc: 0.9566 - val_loss: 0.1378 - val_acc: 0.9489\n\n",
          "name": "stdout"
        }
      ]
    },
    {
      "metadata": {
        "_uuid": "9293bafc2c2dc624cfd535937138bb2a08417492"
      },
      "cell_type": "markdown",
      "source": "**Validation loss is constant while training loss decreased. **\n\n**Not the best result but not bad and there is no overffiting and no need for early stop or dropout****"
    },
    {
      "metadata": {
        "trusted": true,
        "_uuid": "a83b387fccc671d25c289a553a77b0d51a64677e"
      },
      "cell_type": "code",
      "source": "import matplotlib.pyplot as plt\nplt.figure(figsize=(10,7))\na, = plt.plot(history.history['loss'],label='Training Loss')\nb, = plt.plot(history.history['val_loss'],label='Validation Loss')\nplt.legend(handles=[a,b])\nplt.show()",
      "execution_count": 12,
      "outputs": [
        {
          "output_type": "display_data",
          "data": {
            "text/plain": "<Figure size 720x504 with 1 Axes>",
            "image/png": "[encoded data removed]"
          },
          "metadata": {}
        }
      ]
    },
    {
      "metadata": {
        "_uuid": "5d1b0f288e9f19e86cd08099d6fdea08dccfb8dc"
      },
      "cell_type": "markdown",
      "source": "**Do the same preprocessing on testing sets**"
    },
    {
      "metadata": {
        "trusted": true,
        "_uuid": "288e21c7ea9f97962f75ed3f1666a7d79453618f"
      },
      "cell_type": "code",
      "source": "import nltk\nstemmer = nltk.stem.SnowballStemmer('english')\nfrom nltk.stem import WordNetLemmatizer\nimport re\nfrom string import punctuation\nfrom sklearn.feature_extraction.stop_words import ENGLISH_STOP_WORDS\nstop_words = ENGLISH_STOP_WORDS\nimport numpy as np\nimport pandas as pd\nimport pickle\nlemmatizer = WordNetLemmatizer()\n\ndef preprocess(x):\n    x = x.encode(\"ascii\", errors=\"ignore\").decode()\n    x = x.lower().strip()\n    x = x.replace('\\r', ' ').replace('\\n', ' ')\n    x = re.sub(r'([\\w\\.-]+@[\\w\\.-]+)', 'email_se', x)\n    x = re.sub(' +',' ',x)\n    x = re.sub(r'[^\\w\\s]','',x)\n    x = nltk.word_tokenize(x) \n    x = [lemmatizer.lemmatize(word, pos='v') for word in x if lemmatizer.lemmatize(word, pos='v') not in stop_words]\n    x = [lemmatizer.lemmatize(word, pos='n') for word in x if lemmatizer.lemmatize(word, pos='n') not in stop_words]\n    x = [stemmer.stem(word) for word in x]\n    return x\ndef get_vector(text):\n    text = preprocess(text)\n    return avg_feature_vector(text)\ntest_df[\"question_text_vector\"] = test_df[\"question_text\"].apply(get_vector)\nprint(test_df.head(1))",
      "execution_count": 13,
      "outputs": [
        {
          "output_type": "stream",
          "text": "/opt/conda/lib/python3.6/site-packages/ipykernel_launcher.py:8: DeprecationWarning: Call to deprecated `wv` (Attribute will be removed in 4.0.0, use self instead).\n  \n",
          "name": "stderr"
        },
        {
          "output_type": "stream",
          "text": "                    qid                        ...                                                       question_text_vector\n0  0000163e3ea7c7a74cd7                        ...                          [0.08994675, 0.06884384, 0.019729614, 0.017761...\n\n[1 rows x 3 columns]\n",
          "name": "stdout"
        }
      ]
    },
    {
      "metadata": {
        "_uuid": "4a175f1de906aacda4ace9b3fc3f7207148fa073"
      },
      "cell_type": "markdown",
      "source": "Use my neural network model to predict for test data"
    },
    {
      "metadata": {
        "trusted": true,
        "_uuid": "20084a7bfad707f7711050d1c0e49425a47497a3"
      },
      "cell_type": "code",
      "source": "test1 = np.array(test_df.values)\n\ntest2 = []\nfor i in range(len(test1)):\n    b1 = test1[i][2]\n    test2.append(b1)\nprint(np.array(test2).shape)\npred_list = model.predict_classes(np.array(test2))",
      "execution_count": 14,
      "outputs": [
        {
          "output_type": "stream",
          "text": "(375806, 300)\n",
          "name": "stdout"
        }
      ]
    },
    {
      "metadata": {
        "_uuid": "0fa6351808a22508340bd9535ba76968eb8e2a73"
      },
      "cell_type": "markdown",
      "source": "**Lets take a look at the model's performance on the testing set. **\n\nAll the 1's look pretty toxic to me. Have to say the model is performing fairly well.\nDon't know the exact accuracy since I missed the deadline for submission :("
    },
    {
      "metadata": {
        "trusted": true,
        "_uuid": "a07840d013b872e714aa0ae0ab7646cd7b4ba12e"
      },
      "cell_type": "code",
      "source": "pd.options.display.max_colwidth = 90\nsub = pd.DataFrame(\n    {'question': test_df[\"question_text\"].tolist() ,\n     'prediction': pred_list\n    })\nprint(\"toxic stuff\")\nprint(\"\")\nprint(\"\")\nprint(sub[sub.prediction==1].head(20))\nprint(\"\")\nprint(\"non-toxic stuff\")\nprint(\"\")\nprint(\"\")\nprint(sub[sub.prediction==0].head(20))\n",
      "execution_count": 15,
      "outputs": [
        {
          "output_type": "stream",
          "text": "toxic stuff\n\n\n                                                                                      question  prediction\n0    Why do so many women become so rude and arrogant when they get just a little bit of we...           1\n17                                                                      Can we eat human poop?           1\n21   Why do so many people on this damn site not actually answer the question, but give som...           1\n27   Let's say that hypothetically the alt-right nightmare comes true, and Muslims take ove...           1\n58   Why do Bengali and Kolkata people dominate Hindi language speaking people from Delhi, ...           1\n99   Shouldn’t we blame those who knew how bad Trump was and didn’t go to vote for today’s ...           1\n105          Why does the media let Saudi Arabia get away with murder of 50,000 kids in Yemen?           1\n211                            Why do Asian people hate white and black people? (READ COMMENT)           1\n270              What does Habib Fanny think about black people calling each other the N-Word?           1\n273  If only some of the Muslims are bad then why don't the majority of Muslims stop demoli...           1\n281                                        Why do the Majority of Malays in Malaysia hate DAP?           1\n289                                                  Why do White Americans hate Black people?           1\n294  Why is Sharia Law so stupid and why do so many Muslims want it enforced in Canada & Am...           1\n327                                                               Why do girls suck guys dick?           1\n358  Do all conservatives think liberals are stupid and do all liberals think conservatives...           1\n467                                               Why are north Indians always angry and rude?           1\n517      Why are many Americans getting the impression that people in Ireland don't like them?           1\n541  Instead of blaming the world for Islamophobia do Muslims want to introspect the real r...           1\n544  Why do Chinese and Indian (in particular) best and brightest students still flock to A...           1\n570                       Why do people think white privilege is real when it's blatantly not?           1\n\nnon-toxic stuff\n\n\n                                                                                     question  prediction\n1   When should I apply for RV college of engineering and BMS college of engineering? Shou...           0\n2                                          What is it really like to be a nurse practitioner?           0\n3                                                                      Who are entrepreneurs?           0\n4                                            Is education really making good people nowadays?           0\n5                                                 How do you train a pigeon to send messages?           0\n6                                                           What is the currency in Langkawi?           0\n7                           What is the future for Pandora, can the business reduce its debt?           0\n8   My voice range is A2-C5. My chest voice goes up to F4. Included sample in my higher ch...           0\n9                                                    How much does a tutor earn in Bangalore?           0\n10                   What are the best ways to save money for software engineer in Bangalore?           0\n11                                                             What plant can I grow indoors?           0\n12                                        Are military air traffic controllers FAA certified?           0\n13                                               Why my answers not get any upvotes on Quora?           0\n14                                                  Whats a 1788 new hampshire quarter worth?           0\n15                                       What are the best made pocket knives under $200-300?           0\n16                                        Why is it that Trump supporters see him as a deity?           0\n18                                             What are the weakest body parts when fighting?           0\n19                             Before how many days its best to use pills to avoid pregnancy?           0\n20                                               What are tasks that Siri can do efficiently?           0\n22                                                                 Does Manafort have a case?           0\n",
          "name": "stdout"
        }
      ]
    },
    {
      "metadata": {
        "trusted": true,
        "_uuid": "4ffb1ccb4c71f09dce2f39fc5decfc74b3d51ecc"
      },
      "cell_type": "code",
      "source": "sub = pd.DataFrame(\n    {'qid': test_df[\"qid\"].tolist() ,\n     'prediction': pred_list\n    })\nprint(sub.columns)\nprint(sub.head(4))\nprint(sub[sub.prediction==1].head(3))\nsub.to_csv(\"submission.csv\",index=False)",
      "execution_count": null,
      "outputs": [
        {
          "output_type": "stream",
          "text": "Index(['qid', 'prediction'], dtype='object')\n                    qid  prediction\n0  0000163e3ea7c7a74cd7           1\n1  00002bd4fb5d505b9161           0\n2  00007756b4a147d2b0b3           0\n3  000086e4b7e1c7146103           0\n                     qid  prediction\n0   0000163e3ea7c7a74cd7           1\n17  00025f4a23df8d58e6ff           1\n21  000383e4ebd22f6ede04           1\n",
          "name": "stdout"
        }
      ]
    },
    {
      "metadata": {
        "trusted": true,
        "_uuid": "6f12f377312bdd6b80f2ce4aeda3aed7c08af1ea"
      },
      "cell_type": "code",
      "source": "",
      "execution_count": null,
      "outputs": []
    },
    {
      "metadata": {
        "trusted": true,
        "_uuid": "152e434ab1a044f4eb88f2b52503e81a91b83cbd"
      },
      "cell_type": "code",
      "source": "",
      "execution_count": null,
      "outputs": []
    },
    {
      "metadata": {
        "trusted": true,
        "_uuid": "a3f2f167b1f867e6256c5b146463a7645ddd859a"
      },
      "cell_type": "code",
      "source": "",
      "execution_count": null,
      "outputs": []
    },
    {
      "metadata": {
        "trusted": true,
        "_uuid": "2da1187fb100fd9caba25858f721e070179cd349"
      },
      "cell_type": "code",
      "source": "",
      "execution_count": null,
      "outputs": []
    }
  ],
  "metadata": {
    "kernelspec": {
      "display_name": "Python 3",
      "language": "python",
      "name": "python3"
    },
    "language_info": {
      "name": "python",
      "version": "3.6.6",
      "mimetype": "text/x-python",
      "codemirror_mode": {
        "name": "ipython",
        "version": 3
      },
      "pygments_lexer": "ipython3",
      "nbconvert_exporter": "python",
      "file_extension": ".py"
    }
  },
  "nbformat": 4,
  "nbformat_minor": 1
}